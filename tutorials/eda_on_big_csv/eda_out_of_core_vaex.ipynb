{
 "cells": [
  {
   "cell_type": "markdown",
   "metadata": {},
   "source": [
    "### Agenda"
   ]
  },
  {
   "cell_type": "code",
   "execution_count": 2,
   "metadata": {},
   "outputs": [],
   "source": [
    "%load_ext memory_profiler"
   ]
  },
  {
   "cell_type": "code",
   "execution_count": 1,
   "metadata": {},
   "outputs": [],
   "source": [
    "import dask.dataframe as dd\n",
    "import pandas as pd\n",
    "from tqdm.notebook import tqdm\n",
    "import vaex"
   ]
  },
  {
   "cell_type": "code",
   "execution_count": 16,
   "metadata": {},
   "outputs": [
    {
     "name": "stdout",
     "output_type": "stream",
     "text": [
      "peak memory: 3032.72 MiB, increment: 1679.27 MiB\n"
     ]
    }
   ],
   "source": [
    "%%memit\n",
    "csv_file = \"OP_DTL_GNRL_PGYR2019_P06302020.csv\"\n",
    "chunk_size = 750000\n",
    "for i, df in enumerate(vaex.from_csv(csv_file, chunk_size=chunk_size,low_memory=False)):\n",
    "    df.export_hdf5('temp1.hdf5')\n",
    "    if i == 0:\n",
    "        break"
   ]
  },
  {
   "cell_type": "code",
   "execution_count": 15,
   "metadata": {},
   "outputs": [
    {
     "name": "stdout",
     "output_type": "stream",
     "text": [
      "peak memory: 1352.88 MiB, increment: 0.20 MiB\n"
     ]
    }
   ],
   "source": [
    "%%memit\n",
    "# csv_file = \"OP_DTL_GNRL_PGYR2019_P06302020.csv\"\n",
    "csv_file = \"medicare_all_1.csv\"\n",
    "chunk_size = 100000\n",
    "#full_vaex_df = vaex.from_csv(csv_file,chunk_size=chunk_size,low_memory=False,convert=True)"
   ]
  },
  {
   "cell_type": "code",
   "execution_count": 3,
   "metadata": {},
   "outputs": [
    {
     "data": {
      "text/html": [
       "<table>\n",
       "<thead>\n",
       "<tr><th>#                                     </th><th>Change_Type  </th><th>Covered_Recipient_Type     </th><th>Teaching_Hospital_CCN  </th><th>Teaching_Hospital_ID  </th><th>Teaching_Hospital_Name  </th><th>Physician_Profile_ID  </th><th>Physician_First_Name  </th><th>Physician_Middle_Name  </th><th>Physician_Last_Name  </th><th>Physician_Name_Suffix  </th><th>Recipient_Primary_Business_Street_Address_Line1  </th><th>Recipient_Primary_Business_Street_Address_Line2  </th><th>Recipient_City  </th><th>Recipient_State  </th><th>Recipient_Zip_Code  </th><th>Recipient_Country  </th><th>Recipient_Province  </th><th>Recipient_Postal_Code  </th><th>Physician_Primary_Type  </th><th>Physician_Specialty                                </th><th>Physician_License_State_code1  </th><th>Physician_License_State_code2  </th><th>Physician_License_State_code3  </th><th>Physician_License_State_code4  </th><th>Physician_License_State_code5  </th><th>Submitting_Applicable_Manufacturer_or_Applicable_GPO_Name  </th><th>Applicable_Manufacturer_or_Applicable_GPO_Making_Payment_ID  </th><th>Applicable_Manufacturer_or_Applicable_GPO_Making_Payment_Name  </th><th>Applicable_Manufacturer_or_Applicable_GPO_Making_Payment_State  </th><th>Applicable_Manufacturer_or_Applicable_GPO_Making_Payment_Country  </th><th>Total_Amount_of_Payment_USDollars  </th><th>Date_of_Payment  </th><th>Number_of_Payments_Included_in_Total_Amount  </th><th>Form_of_Payment_or_Transfer_of_Value  </th><th>Nature_of_Payment_or_Transfer_of_Value  </th><th>City_of_Travel  </th><th>State_of_Travel  </th><th>Country_of_Travel  </th><th>Physician_Ownership_Indicator  </th><th>Third_Party_Payment_Recipient_Indicator  </th><th>Name_of_Third_Party_Entity_Receiving_Payment_or_Transfer_of_Value  </th><th>Charity_Indicator  </th><th>Third_Party_Equals_Covered_Recipient_Indicator  </th><th>Contextual_Information  </th><th>Delay_in_Publication_Indicator  </th><th>Record_ID  </th><th>Dispute_Status_for_Publication  </th><th>Related_Product_Indicator  </th><th>Covered_or_Noncovered_Indicator_1  </th><th>Indicate_Drug_or_Biological_or_Device_or_Medical_Supply_1  </th><th>Product_Category_or_Therapeutic_Area_1  </th><th>Name_of_Drug_or_Biological_or_Device_or_Medical_Supply_1  </th><th>Associated_Drug_or_Biological_NDC_1  </th><th>Covered_or_Noncovered_Indicator_2  </th><th>Indicate_Drug_or_Biological_or_Device_or_Medical_Supply_2  </th><th>Product_Category_or_Therapeutic_Area_2  </th><th>Name_of_Drug_or_Biological_or_Device_or_Medical_Supply_2  </th><th>Associated_Drug_or_Biological_NDC_2  </th><th>Covered_or_Noncovered_Indicator_3  </th><th>Indicate_Drug_or_Biological_or_Device_or_Medical_Supply_3  </th><th>Product_Category_or_Therapeutic_Area_3  </th><th>Name_of_Drug_or_Biological_or_Device_or_Medical_Supply_3  </th><th>Associated_Drug_or_Biological_NDC_3  </th><th>Covered_or_Noncovered_Indicator_4  </th><th>Indicate_Drug_or_Biological_or_Device_or_Medical_Supply_4  </th><th>Product_Category_or_Therapeutic_Area_4  </th><th>Name_of_Drug_or_Biological_or_Device_or_Medical_Supply_4  </th><th>Associated_Drug_or_Biological_NDC_4  </th><th>Covered_or_Noncovered_Indicator_5  </th><th>Indicate_Drug_or_Biological_or_Device_or_Medical_Supply_5  </th><th>Product_Category_or_Therapeutic_Area_5  </th><th>Name_of_Drug_or_Biological_or_Device_or_Medical_Supply_5  </th><th>Associated_Drug_or_Biological_NDC_5  </th><th>Program_Year  </th><th>Payment_Publication_Date  </th></tr>\n",
       "</thead>\n",
       "<tbody>\n",
       "<tr><td><i style='opacity: 0.6'>0</i>         </td><td>UNCHANGED    </td><td>Covered Recipient Physician</td><td>nan                    </td><td>nan                   </td><td>None                    </td><td>299919.0              </td><td>KEITH                 </td><td>A                      </td><td>VASENIUS             </td><td>None                   </td><td>909 9TH AVE STE 202                              </td><td>None                                             </td><td>FORT WORTH      </td><td>TX               </td><td>76104               </td><td>United States      </td><td>None                </td><td>None                   </td><td>Medical Doctor          </td><td>&#x27;Allopathic &amp; Osteopathic Physicians|Internal Me...</td><td>TX                             </td><td>None                           </td><td>None                           </td><td>None                           </td><td>None                           </td><td>Incisive Surgical, Inc.                                    </td><td>100000041250                                                 </td><td>Incisive Surgical, Inc.                                        </td><td>MN                                                              </td><td>United States                                                     </td><td>10.77                              </td><td>06/27/2018       </td><td>1                                            </td><td>Cash or cash equivalent               </td><td>Food and Beverage                       </td><td>None            </td><td>None             </td><td>None               </td><td>No                             </td><td>No Third Party Payment                   </td><td>None                                                               </td><td>None               </td><td>None                                            </td><td>None                    </td><td>No                              </td><td>521110767  </td><td>No                              </td><td>Yes                        </td><td>Covered                            </td><td>Device                                                     </td><td>INSORB Absorbable Stapler               </td><td>None                                                      </td><td>None                                 </td><td>None                               </td><td>None                                                       </td><td>None                                    </td><td>None                                                      </td><td>None                                 </td><td>None                               </td><td>None                                                       </td><td>None                                    </td><td>None                                                      </td><td>None                                 </td><td>None                               </td><td>None                                                       </td><td>None                                    </td><td>None                                                      </td><td>None                                 </td><td>None                               </td><td>None                                                       </td><td>None                                    </td><td>None                                                      </td><td>None                                 </td><td>2018          </td><td>06/30/2020                </td></tr>\n",
       "<tr><td><i style='opacity: 0.6'>1</i>         </td><td>UNCHANGED    </td><td>Covered Recipient Physician</td><td>nan                    </td><td>nan                   </td><td>None                    </td><td>154298.0              </td><td>EDWARD                </td><td>None                   </td><td>LOGUE                </td><td>None                   </td><td>350 S GREENLEAF ST STE 405                       </td><td>None                                             </td><td>GURNEE          </td><td>IL               </td><td>60031               </td><td>United States      </td><td>None                </td><td>None                   </td><td>Medical Doctor          </td><td>&#x27;Allopathic &amp; Osteopathic Physicians|Orthopaedic...</td><td>IL                             </td><td>None                           </td><td>None                           </td><td>None                           </td><td>None                           </td><td>Incisive Surgical, Inc.                                    </td><td>100000041250                                                 </td><td>Incisive Surgical, Inc.                                        </td><td>MN                                                              </td><td>United States                                                     </td><td>15.26                              </td><td>01/08/2018       </td><td>1                                            </td><td>Cash or cash equivalent               </td><td>Food and Beverage                       </td><td>None            </td><td>None             </td><td>None               </td><td>No                             </td><td>No Third Party Payment                   </td><td>None                                                               </td><td>None               </td><td>None                                            </td><td>None                    </td><td>No                              </td><td>520978699  </td><td>No                              </td><td>Yes                        </td><td>Covered                            </td><td>Device                                                     </td><td>INSORB Absorbable Stapler               </td><td>None                                                      </td><td>None                                 </td><td>None                               </td><td>None                                                       </td><td>None                                    </td><td>None                                                      </td><td>None                                 </td><td>None                               </td><td>None                                                       </td><td>None                                    </td><td>None                                                      </td><td>None                                 </td><td>None                               </td><td>None                                                       </td><td>None                                    </td><td>None                                                      </td><td>None                                 </td><td>None                               </td><td>None                                                       </td><td>None                                    </td><td>None                                                      </td><td>None                                 </td><td>2018          </td><td>06/30/2020                </td></tr>\n",
       "<tr><td><i style='opacity: 0.6'>2</i>         </td><td>UNCHANGED    </td><td>Covered Recipient Physician</td><td>nan                    </td><td>nan                   </td><td>None                    </td><td>122437.0              </td><td>SENTHIL               </td><td>K                      </td><td>THAMBIDORAI          </td><td>None                   </td><td>909 9TH AVE STE 202                              </td><td>None                                             </td><td>FORT WORTH      </td><td>TX               </td><td>76104               </td><td>United States      </td><td>None                </td><td>None                   </td><td>Medical Doctor          </td><td>&#x27;Allopathic &amp; Osteopathic Physicians|Internal Me...</td><td>TX                             </td><td>None                           </td><td>None                           </td><td>None                           </td><td>None                           </td><td>Incisive Surgical, Inc.                                    </td><td>100000041250                                                 </td><td>Incisive Surgical, Inc.                                        </td><td>MN                                                              </td><td>United States                                                     </td><td>10.77                              </td><td>06/27/2018       </td><td>1                                            </td><td>Cash or cash equivalent               </td><td>Food and Beverage                       </td><td>None            </td><td>None             </td><td>None               </td><td>No                             </td><td>No Third Party Payment                   </td><td>None                                                               </td><td>None               </td><td>None                                            </td><td>None                    </td><td>No                              </td><td>521110771  </td><td>No                              </td><td>Yes                        </td><td>Covered                            </td><td>Device                                                     </td><td>INSORB Absorbable Stapler               </td><td>None                                                      </td><td>None                                 </td><td>None                               </td><td>None                                                       </td><td>None                                    </td><td>None                                                      </td><td>None                                 </td><td>None                               </td><td>None                                                       </td><td>None                                    </td><td>None                                                      </td><td>None                                 </td><td>None                               </td><td>None                                                       </td><td>None                                    </td><td>None                                                      </td><td>None                                 </td><td>None                               </td><td>None                                                       </td><td>None                                    </td><td>None                                                      </td><td>None                                 </td><td>2018          </td><td>06/30/2020                </td></tr>\n",
       "<tr><td><i style='opacity: 0.6'>3</i>         </td><td>UNCHANGED    </td><td>Covered Recipient Physician</td><td>nan                    </td><td>nan                   </td><td>None                    </td><td>105088.0              </td><td>AZRA                  </td><td>S                      </td><td>AYUBI                </td><td>None                   </td><td>250 SAN JOSE ST                                  </td><td>None                                             </td><td>SALINAS         </td><td>CA               </td><td>93901               </td><td>United States      </td><td>None                </td><td>None                   </td><td>Medical Doctor          </td><td>&#x27;Allopathic &amp; Osteopathic Physicians|Obstetrics ...</td><td>CA                             </td><td>None                           </td><td>None                           </td><td>None                           </td><td>None                           </td><td>Incisive Surgical, Inc.                                    </td><td>100000041250                                                 </td><td>Incisive Surgical, Inc.                                        </td><td>MN                                                              </td><td>United States                                                     </td><td>37.09                              </td><td>02/15/2018       </td><td>1                                            </td><td>Cash or cash equivalent               </td><td>Food and Beverage                       </td><td>None            </td><td>None             </td><td>None               </td><td>No                             </td><td>No Third Party Payment                   </td><td>None                                                               </td><td>None               </td><td>None                                            </td><td>None                    </td><td>No                              </td><td>521110777  </td><td>No                              </td><td>Yes                        </td><td>Covered                            </td><td>Device                                                     </td><td>INSORB Absorbable Stapler               </td><td>None                                                      </td><td>None                                 </td><td>None                               </td><td>None                                                       </td><td>None                                    </td><td>None                                                      </td><td>None                                 </td><td>None                               </td><td>None                                                       </td><td>None                                    </td><td>None                                                      </td><td>None                                 </td><td>None                               </td><td>None                                                       </td><td>None                                    </td><td>None                                                      </td><td>None                                 </td><td>None                               </td><td>None                                                       </td><td>None                                    </td><td>None                                                      </td><td>None                                 </td><td>2018          </td><td>06/30/2020                </td></tr>\n",
       "<tr><td><i style='opacity: 0.6'>4</i>         </td><td>UNCHANGED    </td><td>Covered Recipient Physician</td><td>nan                    </td><td>nan                   </td><td>None                    </td><td>464937.0              </td><td>Hatice                </td><td>None                   </td><td>Savas                </td><td>None                   </td><td>676 N Saint Clair St                             </td><td>Suite 800                                        </td><td>Chicago         </td><td>IL               </td><td>60611               </td><td>United States      </td><td>None                </td><td>None                   </td><td>Medical Doctor          </td><td>&#x27;Allopathic &amp; Osteopathic Physicians|Radiology|D...</td><td>MI                             </td><td>None                           </td><td>None                           </td><td>None                           </td><td>None                           </td><td>Imbio, LLC                                                 </td><td>100000126363                                                 </td><td>Imbio, LLC                                                     </td><td>MN                                                              </td><td>United States                                                     </td><td>1250.0                             </td><td>12/27/2018       </td><td>1                                            </td><td>Cash or cash equivalent               </td><td>Consulting Fee                          </td><td>None            </td><td>None             </td><td>None               </td><td>No                             </td><td>No Third Party Payment                   </td><td>None                                                               </td><td>None               </td><td>None                                            </td><td>None                    </td><td>No                              </td><td>521112931  </td><td>No                              </td><td>Yes                        </td><td>Covered                            </td><td>Device                                                     </td><td>Diagnostic medical imaging software     </td><td>None                                                      </td><td>None                                 </td><td>None                               </td><td>None                                                       </td><td>None                                    </td><td>None                                                      </td><td>None                                 </td><td>None                               </td><td>None                                                       </td><td>None                                    </td><td>None                                                      </td><td>None                                 </td><td>None                               </td><td>None                                                       </td><td>None                                    </td><td>None                                                      </td><td>None                                 </td><td>None                               </td><td>None                                                       </td><td>None                                    </td><td>None                                                      </td><td>None                                 </td><td>2018          </td><td>06/30/2020                </td></tr>\n",
       "<tr><td>...                                   </td><td>...          </td><td>...                        </td><td>...                    </td><td>...                   </td><td>...                     </td><td>...                   </td><td>...                   </td><td>...                    </td><td>...                  </td><td>...                    </td><td>...                                              </td><td>...                                              </td><td>...             </td><td>...              </td><td>...                 </td><td>...                </td><td>...                 </td><td>...                    </td><td>...                     </td><td>...                                                </td><td>...                            </td><td>...                            </td><td>...                            </td><td>...                            </td><td>...                            </td><td>...                                                        </td><td>...                                                          </td><td>...                                                            </td><td>...                                                             </td><td>...                                                               </td><td>...                                </td><td>...              </td><td>...                                          </td><td>...                                   </td><td>...                                     </td><td>...             </td><td>...              </td><td>...                </td><td>...                            </td><td>...                                      </td><td>...                                                                </td><td>...                </td><td>...                                             </td><td>...                     </td><td>...                             </td><td>...        </td><td>...                             </td><td>...                        </td><td>...                                </td><td>...                                                        </td><td>...                                     </td><td>...                                                       </td><td>...                                  </td><td>...                                </td><td>...                                                        </td><td>...                                     </td><td>...                                                       </td><td>...                                  </td><td>...                                </td><td>...                                                        </td><td>...                                     </td><td>...                                                       </td><td>...                                  </td><td>...                                </td><td>...                                                        </td><td>...                                     </td><td>...                                                       </td><td>...                                  </td><td>...                                </td><td>...                                                        </td><td>...                                     </td><td>...                                                       </td><td>...                                  </td><td>...           </td><td>...                       </td></tr>\n",
       "<tr><td><i style='opacity: 0.6'>21,265,150</i></td><td>NEW          </td><td>Covered Recipient Physician</td><td>nan                    </td><td>nan                   </td><td>None                    </td><td>870733.0              </td><td>ORESTIS               </td><td>                       </td><td>PAPPAS               </td><td>None                   </td><td>2315 MYRTLE ST                                   </td><td>STE 190                                          </td><td>ERIE            </td><td>PA               </td><td>16502               </td><td>United States      </td><td>None                </td><td>None                   </td><td>Medical Doctor          </td><td>&#x27;Allopathic &amp; Osteopathic Physicians|Internal Me...</td><td>PA                             </td><td>None                           </td><td>None                           </td><td>None                           </td><td>None                           </td><td>Bard Peripheral Vascular, Inc.                             </td><td>100000005481                                                 </td><td>BARD PERIPHERAL VASCULAR, INC.                                 </td><td>AZ                                                              </td><td>United States                                                     </td><td>33.29                              </td><td>07/03/2019       </td><td>1                                            </td><td>In-kind items and services            </td><td>Food and Beverage                       </td><td>None            </td><td>None             </td><td>None               </td><td>No                             </td><td>No Third Party Payment                   </td><td>None                                                               </td><td>None               </td><td>None                                            </td><td>None                    </td><td>No                              </td><td>701708771  </td><td>No                              </td><td>Yes                        </td><td>Non-Covered                        </td><td>                                                           </td><td>                                        </td><td>                                                          </td><td>None                                 </td><td>None                               </td><td>None                                                       </td><td>None                                    </td><td>None                                                      </td><td>None                                 </td><td>None                               </td><td>None                                                       </td><td>None                                    </td><td>None                                                      </td><td>None                                 </td><td>None                               </td><td>None                                                       </td><td>None                                    </td><td>None                                                      </td><td>None                                 </td><td>None                               </td><td>None                                                       </td><td>None                                    </td><td>None                                                      </td><td>None                                 </td><td>2019          </td><td>06/30/2020                </td></tr>\n",
       "<tr><td><i style='opacity: 0.6'>21,265,151</i></td><td>NEW          </td><td>Covered Recipient Physician</td><td>nan                    </td><td>nan                   </td><td>None                    </td><td>47705.0               </td><td>GENNADY               </td><td>                       </td><td>GESKIN               </td><td>None                   </td><td>6637 STATE ROUTE 30                              </td><td>                                                 </td><td>JEANNETTE       </td><td>PA               </td><td>15644               </td><td>United States      </td><td>None                </td><td>None                   </td><td>Medical Doctor          </td><td>&#x27;Allopathic &amp; Osteopathic Physicians|Internal Me...</td><td>PA                             </td><td>None                           </td><td>None                           </td><td>None                           </td><td>None                           </td><td>Bard Peripheral Vascular, Inc.                             </td><td>100000005481                                                 </td><td>BARD PERIPHERAL VASCULAR, INC.                                 </td><td>AZ                                                              </td><td>United States                                                     </td><td>18.19                              </td><td>07/02/2019       </td><td>1                                            </td><td>In-kind items and services            </td><td>Food and Beverage                       </td><td>None            </td><td>None             </td><td>None               </td><td>No                             </td><td>No Third Party Payment                   </td><td>None                                                               </td><td>None               </td><td>None                                            </td><td>None                    </td><td>No                              </td><td>701708773  </td><td>No                              </td><td>Yes                        </td><td>Non-Covered                        </td><td>None                                                       </td><td>None                                    </td><td>None                                                      </td><td>None                                 </td><td>None                               </td><td>None                                                       </td><td>None                                    </td><td>None                                                      </td><td>None                                 </td><td>None                               </td><td>None                                                       </td><td>None                                    </td><td>None                                                      </td><td>None                                 </td><td>None                               </td><td>None                                                       </td><td>None                                    </td><td>None                                                      </td><td>None                                 </td><td>None                               </td><td>None                                                       </td><td>None                                    </td><td>None                                                      </td><td>None                                 </td><td>2019          </td><td>06/30/2020                </td></tr>\n",
       "<tr><td><i style='opacity: 0.6'>21,265,152</i></td><td>NEW          </td><td>Covered Recipient Physician</td><td>nan                    </td><td>nan                   </td><td>None                    </td><td>222714.0              </td><td>ROBERT                </td><td>WAYNE                  </td><td>TAHARA               </td><td>None                   </td><td>900 CHESTNUT STREET EXT                          </td><td>None                                             </td><td>BRADFORD        </td><td>PA               </td><td>16701               </td><td>United States      </td><td>None                </td><td>None                   </td><td>Medical Doctor          </td><td>&#x27;Allopathic &amp; Osteopathic Physicians|Surgery|Vas...</td><td>PA                             </td><td>None                           </td><td>None                           </td><td>None                           </td><td>None                           </td><td>Bard Peripheral Vascular, Inc.                             </td><td>100000005481                                                 </td><td>BARD PERIPHERAL VASCULAR, INC.                                 </td><td>AZ                                                              </td><td>United States                                                     </td><td>38.74                              </td><td>06/13/2019       </td><td>1                                            </td><td>In-kind items and services            </td><td>Food and Beverage                       </td><td>None            </td><td>None             </td><td>None               </td><td>No                             </td><td>No Third Party Payment                   </td><td>None                                                               </td><td>None               </td><td>None                                            </td><td>None                    </td><td>No                              </td><td>701708775  </td><td>No                              </td><td>No                         </td><td>                                   </td><td>                                                           </td><td>                                        </td><td>                                                          </td><td>None                                 </td><td>None                               </td><td>None                                                       </td><td>None                                    </td><td>None                                                      </td><td>None                                 </td><td>None                               </td><td>None                                                       </td><td>None                                    </td><td>None                                                      </td><td>None                                 </td><td>None                               </td><td>None                                                       </td><td>None                                    </td><td>None                                                      </td><td>None                                 </td><td>None                               </td><td>None                                                       </td><td>None                                    </td><td>None                                                      </td><td>None                                 </td><td>2019          </td><td>06/30/2020                </td></tr>\n",
       "<tr><td><i style='opacity: 0.6'>21,265,153</i></td><td>NEW          </td><td>Covered Recipient Physician</td><td>nan                    </td><td>nan                   </td><td>None                    </td><td>870733.0              </td><td>ORESTIS               </td><td>                       </td><td>PAPPAS               </td><td>None                   </td><td>2315 MYRTLE ST                                   </td><td>STE 190                                          </td><td>ERIE            </td><td>PA               </td><td>16502               </td><td>United States      </td><td>None                </td><td>None                   </td><td>Medical Doctor          </td><td>&#x27;Allopathic &amp; Osteopathic Physicians|Internal Me...</td><td>PA                             </td><td>None                           </td><td>None                           </td><td>None                           </td><td>None                           </td><td>Bard Peripheral Vascular, Inc.                             </td><td>100000005481                                                 </td><td>BARD PERIPHERAL VASCULAR, INC.                                 </td><td>AZ                                                              </td><td>United States                                                     </td><td>114.89                             </td><td>06/19/2019       </td><td>1                                            </td><td>In-kind items and services            </td><td>Food and Beverage                       </td><td>None            </td><td>None             </td><td>None               </td><td>No                             </td><td>No Third Party Payment                   </td><td>None                                                               </td><td>None               </td><td>None                                            </td><td>None                    </td><td>No                              </td><td>701708777  </td><td>No                              </td><td>Yes                        </td><td>Covered                            </td><td>Device                                                     </td><td>PERIPHERAL VASCULAR                     </td><td>VENOVO                                                    </td><td>None                                 </td><td>None                               </td><td>None                                                       </td><td>None                                    </td><td>None                                                      </td><td>None                                 </td><td>None                               </td><td>None                                                       </td><td>None                                    </td><td>None                                                      </td><td>None                                 </td><td>None                               </td><td>None                                                       </td><td>None                                    </td><td>None                                                      </td><td>None                                 </td><td>None                               </td><td>None                                                       </td><td>None                                    </td><td>None                                                      </td><td>None                                 </td><td>2019          </td><td>06/30/2020                </td></tr>\n",
       "<tr><td><i style='opacity: 0.6'>21,265,154</i></td><td>NEW          </td><td>Covered Recipient Physician</td><td>nan                    </td><td>nan                   </td><td>None                    </td><td>358835.0              </td><td>ALLEN                 </td><td>W                      </td><td>LAZENBY              </td><td>None                   </td><td>121 N 20TH ST                                    </td><td>None                                             </td><td>OPELIKA         </td><td>AL               </td><td>36801               </td><td>United States      </td><td>None                </td><td>None                   </td><td>Medical Doctor          </td><td>Allopathic &amp; Osteopathic Physicians|Surgery        </td><td>AL                             </td><td>None                           </td><td>None                           </td><td>None                           </td><td>None                           </td><td>Bard Peripheral Vascular, Inc.                             </td><td>100000005481                                                 </td><td>BARD PERIPHERAL VASCULAR, INC.                                 </td><td>AZ                                                              </td><td>United States                                                     </td><td>103.29                             </td><td>04/02/2019       </td><td>1                                            </td><td>In-kind items and services            </td><td>Food and Beverage                       </td><td>None            </td><td>None             </td><td>None               </td><td>No                             </td><td>No Third Party Payment                   </td><td>None                                                               </td><td>None               </td><td>None                                            </td><td>None                    </td><td>No                              </td><td>701708779  </td><td>No                              </td><td>Yes                        </td><td>Covered                            </td><td>None                                                       </td><td>None                                    </td><td>None                                                      </td><td>None                                 </td><td>None                               </td><td>None                                                       </td><td>None                                    </td><td>None                                                      </td><td>None                                 </td><td>None                               </td><td>None                                                       </td><td>None                                    </td><td>None                                                      </td><td>None                                 </td><td>None                               </td><td>None                                                       </td><td>None                                    </td><td>None                                                      </td><td>None                                 </td><td>None                               </td><td>None                                                       </td><td>None                                    </td><td>None                                                      </td><td>None                                 </td><td>2019          </td><td>06/30/2020                </td></tr>\n",
       "</tbody>\n",
       "</table>"
      ],
      "text/plain": [
       "#           Change_Type    Covered_Recipient_Type       Teaching_Hospital_CCN    Teaching_Hospital_ID    Teaching_Hospital_Name    Physician_Profile_ID    Physician_First_Name    Physician_Middle_Name    Physician_Last_Name    Physician_Name_Suffix    Recipient_Primary_Business_Street_Address_Line1    Recipient_Primary_Business_Street_Address_Line2    Recipient_City    Recipient_State    Recipient_Zip_Code    Recipient_Country    Recipient_Province    Recipient_Postal_Code    Physician_Primary_Type    Physician_Specialty                                  Physician_License_State_code1    Physician_License_State_code2    Physician_License_State_code3    Physician_License_State_code4    Physician_License_State_code5    Submitting_Applicable_Manufacturer_or_Applicable_GPO_Name    Applicable_Manufacturer_or_Applicable_GPO_Making_Payment_ID    Applicable_Manufacturer_or_Applicable_GPO_Making_Payment_Name    Applicable_Manufacturer_or_Applicable_GPO_Making_Payment_State    Applicable_Manufacturer_or_Applicable_GPO_Making_Payment_Country    Total_Amount_of_Payment_USDollars    Date_of_Payment    Number_of_Payments_Included_in_Total_Amount    Form_of_Payment_or_Transfer_of_Value    Nature_of_Payment_or_Transfer_of_Value    City_of_Travel    State_of_Travel    Country_of_Travel    Physician_Ownership_Indicator    Third_Party_Payment_Recipient_Indicator    Name_of_Third_Party_Entity_Receiving_Payment_or_Transfer_of_Value    Charity_Indicator    Third_Party_Equals_Covered_Recipient_Indicator    Contextual_Information    Delay_in_Publication_Indicator    Record_ID    Dispute_Status_for_Publication    Related_Product_Indicator    Covered_or_Noncovered_Indicator_1    Indicate_Drug_or_Biological_or_Device_or_Medical_Supply_1    Product_Category_or_Therapeutic_Area_1    Name_of_Drug_or_Biological_or_Device_or_Medical_Supply_1    Associated_Drug_or_Biological_NDC_1    Covered_or_Noncovered_Indicator_2    Indicate_Drug_or_Biological_or_Device_or_Medical_Supply_2    Product_Category_or_Therapeutic_Area_2    Name_of_Drug_or_Biological_or_Device_or_Medical_Supply_2    Associated_Drug_or_Biological_NDC_2    Covered_or_Noncovered_Indicator_3    Indicate_Drug_or_Biological_or_Device_or_Medical_Supply_3    Product_Category_or_Therapeutic_Area_3    Name_of_Drug_or_Biological_or_Device_or_Medical_Supply_3    Associated_Drug_or_Biological_NDC_3    Covered_or_Noncovered_Indicator_4    Indicate_Drug_or_Biological_or_Device_or_Medical_Supply_4    Product_Category_or_Therapeutic_Area_4    Name_of_Drug_or_Biological_or_Device_or_Medical_Supply_4    Associated_Drug_or_Biological_NDC_4    Covered_or_Noncovered_Indicator_5    Indicate_Drug_or_Biological_or_Device_or_Medical_Supply_5    Product_Category_or_Therapeutic_Area_5    Name_of_Drug_or_Biological_or_Device_or_Medical_Supply_5    Associated_Drug_or_Biological_NDC_5    Program_Year    Payment_Publication_Date\n",
       "0           UNCHANGED      Covered Recipient Physician  nan                      nan                     None                      299919.0                KEITH                   A                        VASENIUS               None                     909 9TH AVE STE 202                                None                                               FORT WORTH        TX                 76104                 United States        None                  None                     Medical Doctor            'Allopathic & Osteopathic Physicians|Internal Me...  TX                               None                             None                             None                             None                             Incisive Surgical, Inc.                                      100000041250                                                   Incisive Surgical, Inc.                                          MN                                                                United States                                                       10.77                                06/27/2018         1                                              Cash or cash equivalent                 Food and Beverage                         None              None               None                 No                               No Third Party Payment                     None                                                                 None                 None                                              None                      No                                521110767    No                                Yes                          Covered                              Device                                                       INSORB Absorbable Stapler                 None                                                        None                                   None                                 None                                                         None                                      None                                                        None                                   None                                 None                                                         None                                      None                                                        None                                   None                                 None                                                         None                                      None                                                        None                                   None                                 None                                                         None                                      None                                                        None                                   2018            06/30/2020\n",
       "1           UNCHANGED      Covered Recipient Physician  nan                      nan                     None                      154298.0                EDWARD                  None                     LOGUE                  None                     350 S GREENLEAF ST STE 405                         None                                               GURNEE            IL                 60031                 United States        None                  None                     Medical Doctor            'Allopathic & Osteopathic Physicians|Orthopaedic...  IL                               None                             None                             None                             None                             Incisive Surgical, Inc.                                      100000041250                                                   Incisive Surgical, Inc.                                          MN                                                                United States                                                       15.26                                01/08/2018         1                                              Cash or cash equivalent                 Food and Beverage                         None              None               None                 No                               No Third Party Payment                     None                                                                 None                 None                                              None                      No                                520978699    No                                Yes                          Covered                              Device                                                       INSORB Absorbable Stapler                 None                                                        None                                   None                                 None                                                         None                                      None                                                        None                                   None                                 None                                                         None                                      None                                                        None                                   None                                 None                                                         None                                      None                                                        None                                   None                                 None                                                         None                                      None                                                        None                                   2018            06/30/2020\n",
       "2           UNCHANGED      Covered Recipient Physician  nan                      nan                     None                      122437.0                SENTHIL                 K                        THAMBIDORAI            None                     909 9TH AVE STE 202                                None                                               FORT WORTH        TX                 76104                 United States        None                  None                     Medical Doctor            'Allopathic & Osteopathic Physicians|Internal Me...  TX                               None                             None                             None                             None                             Incisive Surgical, Inc.                                      100000041250                                                   Incisive Surgical, Inc.                                          MN                                                                United States                                                       10.77                                06/27/2018         1                                              Cash or cash equivalent                 Food and Beverage                         None              None               None                 No                               No Third Party Payment                     None                                                                 None                 None                                              None                      No                                521110771    No                                Yes                          Covered                              Device                                                       INSORB Absorbable Stapler                 None                                                        None                                   None                                 None                                                         None                                      None                                                        None                                   None                                 None                                                         None                                      None                                                        None                                   None                                 None                                                         None                                      None                                                        None                                   None                                 None                                                         None                                      None                                                        None                                   2018            06/30/2020\n",
       "3           UNCHANGED      Covered Recipient Physician  nan                      nan                     None                      105088.0                AZRA                    S                        AYUBI                  None                     250 SAN JOSE ST                                    None                                               SALINAS           CA                 93901                 United States        None                  None                     Medical Doctor            'Allopathic & Osteopathic Physicians|Obstetrics ...  CA                               None                             None                             None                             None                             Incisive Surgical, Inc.                                      100000041250                                                   Incisive Surgical, Inc.                                          MN                                                                United States                                                       37.09                                02/15/2018         1                                              Cash or cash equivalent                 Food and Beverage                         None              None               None                 No                               No Third Party Payment                     None                                                                 None                 None                                              None                      No                                521110777    No                                Yes                          Covered                              Device                                                       INSORB Absorbable Stapler                 None                                                        None                                   None                                 None                                                         None                                      None                                                        None                                   None                                 None                                                         None                                      None                                                        None                                   None                                 None                                                         None                                      None                                                        None                                   None                                 None                                                         None                                      None                                                        None                                   2018            06/30/2020\n",
       "4           UNCHANGED      Covered Recipient Physician  nan                      nan                     None                      464937.0                Hatice                  None                     Savas                  None                     676 N Saint Clair St                               Suite 800                                          Chicago           IL                 60611                 United States        None                  None                     Medical Doctor            'Allopathic & Osteopathic Physicians|Radiology|D...  MI                               None                             None                             None                             None                             Imbio, LLC                                                   100000126363                                                   Imbio, LLC                                                       MN                                                                United States                                                       1250.0                               12/27/2018         1                                              Cash or cash equivalent                 Consulting Fee                            None              None               None                 No                               No Third Party Payment                     None                                                                 None                 None                                              None                      No                                521112931    No                                Yes                          Covered                              Device                                                       Diagnostic medical imaging software       None                                                        None                                   None                                 None                                                         None                                      None                                                        None                                   None                                 None                                                         None                                      None                                                        None                                   None                                 None                                                         None                                      None                                                        None                                   None                                 None                                                         None                                      None                                                        None                                   2018            06/30/2020\n",
       "...         ...            ...                          ...                      ...                     ...                       ...                     ...                     ...                      ...                    ...                      ...                                                ...                                                ...               ...                ...                   ...                  ...                   ...                      ...                       ...                                                  ...                              ...                              ...                              ...                              ...                              ...                                                          ...                                                            ...                                                              ...                                                               ...                                                                 ...                                  ...                ...                                            ...                                     ...                                       ...               ...                ...                  ...                              ...                                        ...                                                                  ...                  ...                                               ...                       ...                               ...          ...                               ...                          ...                                  ...                                                          ...                                       ...                                                         ...                                    ...                                  ...                                                          ...                                       ...                                                         ...                                    ...                                  ...                                                          ...                                       ...                                                         ...                                    ...                                  ...                                                          ...                                       ...                                                         ...                                    ...                                  ...                                                          ...                                       ...                                                         ...                                    ...             ...\n",
       "21,265,150  NEW            Covered Recipient Physician  nan                      nan                     None                      870733.0                ORESTIS                                          PAPPAS                 None                     2315 MYRTLE ST                                     STE 190                                            ERIE              PA                 16502                 United States        None                  None                     Medical Doctor            'Allopathic & Osteopathic Physicians|Internal Me...  PA                               None                             None                             None                             None                             Bard Peripheral Vascular, Inc.                               100000005481                                                   BARD PERIPHERAL VASCULAR, INC.                                   AZ                                                                United States                                                       33.29                                07/03/2019         1                                              In-kind items and services              Food and Beverage                         None              None               None                 No                               No Third Party Payment                     None                                                                 None                 None                                              None                      No                                701708771    No                                Yes                          Non-Covered                                                                                                                                                                                             None                                   None                                 None                                                         None                                      None                                                        None                                   None                                 None                                                         None                                      None                                                        None                                   None                                 None                                                         None                                      None                                                        None                                   None                                 None                                                         None                                      None                                                        None                                   2019            06/30/2020\n",
       "21,265,151  NEW            Covered Recipient Physician  nan                      nan                     None                      47705.0                 GENNADY                                          GESKIN                 None                     6637 STATE ROUTE 30                                                                                   JEANNETTE         PA                 15644                 United States        None                  None                     Medical Doctor            'Allopathic & Osteopathic Physicians|Internal Me...  PA                               None                             None                             None                             None                             Bard Peripheral Vascular, Inc.                               100000005481                                                   BARD PERIPHERAL VASCULAR, INC.                                   AZ                                                                United States                                                       18.19                                07/02/2019         1                                              In-kind items and services              Food and Beverage                         None              None               None                 No                               No Third Party Payment                     None                                                                 None                 None                                              None                      No                                701708773    No                                Yes                          Non-Covered                          None                                                         None                                      None                                                        None                                   None                                 None                                                         None                                      None                                                        None                                   None                                 None                                                         None                                      None                                                        None                                   None                                 None                                                         None                                      None                                                        None                                   None                                 None                                                         None                                      None                                                        None                                   2019            06/30/2020\n",
       "21,265,152  NEW            Covered Recipient Physician  nan                      nan                     None                      222714.0                ROBERT                  WAYNE                    TAHARA                 None                     900 CHESTNUT STREET EXT                            None                                               BRADFORD          PA                 16701                 United States        None                  None                     Medical Doctor            'Allopathic & Osteopathic Physicians|Surgery|Vas...  PA                               None                             None                             None                             None                             Bard Peripheral Vascular, Inc.                               100000005481                                                   BARD PERIPHERAL VASCULAR, INC.                                   AZ                                                                United States                                                       38.74                                06/13/2019         1                                              In-kind items and services              Food and Beverage                         None              None               None                 No                               No Third Party Payment                     None                                                                 None                 None                                              None                      No                                701708775    No                                No                                                                                                                                                                                                                                   None                                   None                                 None                                                         None                                      None                                                        None                                   None                                 None                                                         None                                      None                                                        None                                   None                                 None                                                         None                                      None                                                        None                                   None                                 None                                                         None                                      None                                                        None                                   2019            06/30/2020\n",
       "21,265,153  NEW            Covered Recipient Physician  nan                      nan                     None                      870733.0                ORESTIS                                          PAPPAS                 None                     2315 MYRTLE ST                                     STE 190                                            ERIE              PA                 16502                 United States        None                  None                     Medical Doctor            'Allopathic & Osteopathic Physicians|Internal Me...  PA                               None                             None                             None                             None                             Bard Peripheral Vascular, Inc.                               100000005481                                                   BARD PERIPHERAL VASCULAR, INC.                                   AZ                                                                United States                                                       114.89                               06/19/2019         1                                              In-kind items and services              Food and Beverage                         None              None               None                 No                               No Third Party Payment                     None                                                                 None                 None                                              None                      No                                701708777    No                                Yes                          Covered                              Device                                                       PERIPHERAL VASCULAR                       VENOVO                                                      None                                   None                                 None                                                         None                                      None                                                        None                                   None                                 None                                                         None                                      None                                                        None                                   None                                 None                                                         None                                      None                                                        None                                   None                                 None                                                         None                                      None                                                        None                                   2019            06/30/2020\n",
       "21,265,154  NEW            Covered Recipient Physician  nan                      nan                     None                      358835.0                ALLEN                   W                        LAZENBY                None                     121 N 20TH ST                                      None                                               OPELIKA           AL                 36801                 United States        None                  None                     Medical Doctor            Allopathic & Osteopathic Physicians|Surgery          AL                               None                             None                             None                             None                             Bard Peripheral Vascular, Inc.                               100000005481                                                   BARD PERIPHERAL VASCULAR, INC.                                   AZ                                                                United States                                                       103.29                               04/02/2019         1                                              In-kind items and services              Food and Beverage                         None              None               None                 No                               No Third Party Payment                     None                                                                 None                 None                                              None                      No                                701708779    No                                Yes                          Covered                              None                                                         None                                      None                                                        None                                   None                                 None                                                         None                                      None                                                        None                                   None                                 None                                                         None                                      None                                                        None                                   None                                 None                                                         None                                      None                                                        None                                   None                                 None                                                         None                                      None                                                        None                                   2019            06/30/2020"
      ]
     },
     "execution_count": 3,
     "metadata": {},
     "output_type": "execute_result"
    }
   ],
   "source": [
    "vaex_df = vaex.open('medicare_all_1.csv.hdf5')\n",
    "vaex_df"
   ]
  },
  {
   "cell_type": "code",
   "execution_count": 19,
   "metadata": {},
   "outputs": [
    {
     "name": "stdout",
     "output_type": "stream",
     "text": [
      "CPU times: user 1.6 s, sys: 2.05 ms, total: 1.6 s\n",
      "Wall time: 852 ms\n"
     ]
    },
    {
     "data": {
      "text/plain": [
       "Covered Recipient Physician            21175208\n",
       "Covered Recipient Teaching Hospital       89947\n",
       "dtype: int64"
      ]
     },
     "execution_count": 19,
     "metadata": {},
     "output_type": "execute_result"
    }
   ],
   "source": [
    "%%time\n",
    "vaex_df['Covered_Recipient_Type'].value_counts()"
   ]
  },
  {
   "cell_type": "code",
   "execution_count": 20,
   "metadata": {},
   "outputs": [
    {
     "data": {
      "text/plain": [
       "(21265155, 75)"
      ]
     },
     "execution_count": 20,
     "metadata": {},
     "output_type": "execute_result"
    }
   ],
   "source": [
    "vaex_df.shape"
   ]
  },
  {
   "cell_type": "code",
   "execution_count": 7,
   "metadata": {},
   "outputs": [
    {
     "data": {
      "text/html": [
       "<table>\n",
       "<thead>\n",
       "<tr><th>#                            </th><th>Covered_Recipient_Type             </th><th style=\"text-align: right;\">          count</th></tr>\n",
       "</thead>\n",
       "<tbody>\n",
       "<tr><td><i style='opacity: 0.6'>0</i></td><td>Covered Recipient Physician        </td><td style=\"text-align: right;\">    2.11752e+07</td></tr>\n",
       "<tr><td><i style='opacity: 0.6'>1</i></td><td>Covered Recipient Teaching Hospital</td><td style=\"text-align: right;\">89947          </td></tr>\n",
       "</tbody>\n",
       "</table>"
      ],
      "text/plain": [
       "  #  Covered_Recipient_Type                         count\n",
       "  0  Covered Recipient Physician              2.11752e+07\n",
       "  1  Covered Recipient Teaching Hospital  89947"
      ]
     },
     "execution_count": 7,
     "metadata": {},
     "output_type": "execute_result"
    }
   ],
   "source": [
    "vaex_df.groupby(by=\"Covered_Recipient_Type\").agg({\"Physician_First_Name\": 'count'})"
   ]
  },
  {
   "cell_type": "code",
   "execution_count": 9,
   "metadata": {},
   "outputs": [],
   "source": [
    "df_2 = vaex_df.groupby(by=[\"Covered_Recipient_Type\",\"Recipient_City\"], agg = {\"total_payment\": vaex.agg.mean(\"Total_Amount_of_Payment_USDollars\")})"
   ]
  },
  {
   "cell_type": "code",
   "execution_count": 14,
   "metadata": {},
   "outputs": [
    {
     "data": {
      "text/html": [
       "<div>\n",
       "<style scoped>\n",
       "    .dataframe tbody tr th:only-of-type {\n",
       "        vertical-align: middle;\n",
       "    }\n",
       "\n",
       "    .dataframe tbody tr th {\n",
       "        vertical-align: top;\n",
       "    }\n",
       "\n",
       "    .dataframe thead th {\n",
       "        text-align: right;\n",
       "    }\n",
       "</style>\n",
       "<table border=\"1\" class=\"dataframe\">\n",
       "  <thead>\n",
       "    <tr style=\"text-align: right;\">\n",
       "      <th></th>\n",
       "      <th>Covered_Recipient_Type</th>\n",
       "      <th>Recipient_City</th>\n",
       "      <th>total_payment</th>\n",
       "    </tr>\n",
       "  </thead>\n",
       "  <tbody>\n",
       "    <tr>\n",
       "      <th>25056</th>\n",
       "      <td>Covered Recipient Teaching Hospital</td>\n",
       "      <td>DUARTE</td>\n",
       "      <td>1.498362e+06</td>\n",
       "    </tr>\n",
       "    <tr>\n",
       "      <th>24359</th>\n",
       "      <td>Covered Recipient Teaching Hospital</td>\n",
       "      <td>Houston</td>\n",
       "      <td>3.254744e+05</td>\n",
       "    </tr>\n",
       "    <tr>\n",
       "      <th>24976</th>\n",
       "      <td>Covered Recipient Teaching Hospital</td>\n",
       "      <td>HAZARD</td>\n",
       "      <td>2.192535e+05</td>\n",
       "    </tr>\n",
       "    <tr>\n",
       "      <th>21003</th>\n",
       "      <td>Covered Recipient Physician</td>\n",
       "      <td>Little Compton</td>\n",
       "      <td>1.878084e+05</td>\n",
       "    </tr>\n",
       "    <tr>\n",
       "      <th>24774</th>\n",
       "      <td>Covered Recipient Teaching Hospital</td>\n",
       "      <td>Alliance</td>\n",
       "      <td>1.692977e+05</td>\n",
       "    </tr>\n",
       "    <tr>\n",
       "      <th>...</th>\n",
       "      <td>...</td>\n",
       "      <td>...</td>\n",
       "      <td>...</td>\n",
       "    </tr>\n",
       "    <tr>\n",
       "      <th>20311</th>\n",
       "      <td>Covered Recipient Physician</td>\n",
       "      <td>Sackets Harbor</td>\n",
       "      <td>1.310000e+00</td>\n",
       "    </tr>\n",
       "    <tr>\n",
       "      <th>22259</th>\n",
       "      <td>Covered Recipient Physician</td>\n",
       "      <td>MtJuliet</td>\n",
       "      <td>1.250000e+00</td>\n",
       "    </tr>\n",
       "    <tr>\n",
       "      <th>14475</th>\n",
       "      <td>Covered Recipient Physician</td>\n",
       "      <td>Macallen</td>\n",
       "      <td>1.015000e+00</td>\n",
       "    </tr>\n",
       "    <tr>\n",
       "      <th>21158</th>\n",
       "      <td>Covered Recipient Physician</td>\n",
       "      <td>Brooklyn Center</td>\n",
       "      <td>9.400000e-01</td>\n",
       "    </tr>\n",
       "    <tr>\n",
       "      <th>20231</th>\n",
       "      <td>Covered Recipient Physician</td>\n",
       "      <td>Old Greenwich</td>\n",
       "      <td>4.100000e-01</td>\n",
       "    </tr>\n",
       "  </tbody>\n",
       "</table>\n",
       "<p>25179 rows × 3 columns</p>\n",
       "</div>"
      ],
      "text/plain": [
       "                    Covered_Recipient_Type   Recipient_City  total_payment\n",
       "25056  Covered Recipient Teaching Hospital           DUARTE   1.498362e+06\n",
       "24359  Covered Recipient Teaching Hospital          Houston   3.254744e+05\n",
       "24976  Covered Recipient Teaching Hospital           HAZARD   2.192535e+05\n",
       "21003          Covered Recipient Physician   Little Compton   1.878084e+05\n",
       "24774  Covered Recipient Teaching Hospital         Alliance   1.692977e+05\n",
       "...                                    ...              ...            ...\n",
       "20311          Covered Recipient Physician   Sackets Harbor   1.310000e+00\n",
       "22259          Covered Recipient Physician         MtJuliet   1.250000e+00\n",
       "14475          Covered Recipient Physician         Macallen   1.015000e+00\n",
       "21158          Covered Recipient Physician  Brooklyn Center   9.400000e-01\n",
       "20231          Covered Recipient Physician    Old Greenwich   4.100000e-01\n",
       "\n",
       "[25179 rows x 3 columns]"
      ]
     },
     "execution_count": 14,
     "metadata": {},
     "output_type": "execute_result"
    }
   ],
   "source": [
    "pd_df = df_2.to_pandas_df()\n",
    "pd_df.sort_values(by=['total_payment'],ascending=False)"
   ]
  },
  {
   "cell_type": "code",
   "execution_count": 36,
   "metadata": {},
   "outputs": [],
   "source": [
    "import seaborn as sns"
   ]
  },
  {
   "cell_type": "code",
   "execution_count": 77,
   "metadata": {},
   "outputs": [],
   "source": [
    "pandas_df = df_2.to_pandas_df()\n",
    "pandas_df = pandas_df.sort_values(by=\"recipient_count\",ascending=False)"
   ]
  },
  {
   "cell_type": "code",
   "execution_count": 38,
   "metadata": {},
   "outputs": [],
   "source": [
    "%matplotlib inline"
   ]
  },
  {
   "cell_type": "code",
   "execution_count": 78,
   "metadata": {},
   "outputs": [
    {
     "data": {
      "image/png": "[encoded data removed]",
      "text/plain": [
       "<Figure size 432x288 with 1 Axes>"
      ]
     },
     "metadata": {
      "needs_background": "light"
     },
     "output_type": "display_data"
    }
   ],
   "source": [
    "ax = sns.barplot(x=\"Recipient_City\",y=\"recipient_count\",data=pandas_df.head(5))"
   ]
  },
  {
   "cell_type": "code",
   "execution_count": 79,
   "metadata": {},
   "outputs": [],
   "source": [
    "x = full_vaex_df[\"Total_Amount_of_Payment_USDollars\"].to_pandas_series()"
   ]
  },
  {
   "cell_type": "code",
   "execution_count": 80,
   "metadata": {},
   "outputs": [],
   "source": [
    "removed_outliers = x.between(x.quantile(.05), x.quantile(.95))"
   ]
  },
  {
   "cell_type": "code",
   "execution_count": 82,
   "metadata": {},
   "outputs": [
    {
     "data": {
      "image/png": "[encoded data removed]",
      "text/plain": [
       "<Figure size 432x288 with 1 Axes>"
      ]
     },
     "metadata": {
      "needs_background": "light"
     },
     "output_type": "display_data"
    }
   ],
   "source": [
    "ax = sns.distplot(x[removed_outliers])"
   ]
  },
  {
   "cell_type": "code",
   "execution_count": 21,
   "metadata": {},
   "outputs": [],
   "source": []
  },
  {
   "cell_type": "code",
   "execution_count": 2,
   "metadata": {},
   "outputs": [],
   "source": [
    "dask_df = dd.read_parquet(\"temp_medicare_*.parquet\",engine='fastparquet')"
   ]
  },
  {
   "cell_type": "code",
   "execution_count": 22,
   "metadata": {},
   "outputs": [
    {
     "data": {
      "text/plain": [
       "Index(['Change_Type', 'Covered_Recipient_Type', 'Teaching_Hospital_CCN',\n",
       "       'Teaching_Hospital_ID', 'Teaching_Hospital_Name',\n",
       "       'Physician_Profile_ID', 'Physician_First_Name', 'Physician_Middle_Name',\n",
       "       'Physician_Last_Name', 'Physician_Name_Suffix',\n",
       "       'Recipient_Primary_Business_Street_Address_Line1',\n",
       "       'Recipient_Primary_Business_Street_Address_Line2', 'Recipient_City',\n",
       "       'Recipient_State', 'Recipient_Zip_Code', 'Recipient_Country',\n",
       "       'Recipient_Province', 'Recipient_Postal_Code', 'Physician_Primary_Type',\n",
       "       'Physician_Specialty', 'Physician_License_State_code1',\n",
       "       'Physician_License_State_code2', 'Physician_License_State_code3',\n",
       "       'Physician_License_State_code4', 'Physician_License_State_code5',\n",
       "       'Submitting_Applicable_Manufacturer_or_Applicable_GPO_Name',\n",
       "       'Applicable_Manufacturer_or_Applicable_GPO_Making_Payment_ID',\n",
       "       'Applicable_Manufacturer_or_Applicable_GPO_Making_Payment_Name',\n",
       "       'Applicable_Manufacturer_or_Applicable_GPO_Making_Payment_State',\n",
       "       'Applicable_Manufacturer_or_Applicable_GPO_Making_Payment_Country',\n",
       "       'Total_Amount_of_Payment_USDollars', 'Date_of_Payment',\n",
       "       'Number_of_Payments_Included_in_Total_Amount',\n",
       "       'Form_of_Payment_or_Transfer_of_Value',\n",
       "       'Nature_of_Payment_or_Transfer_of_Value', 'City_of_Travel',\n",
       "       'State_of_Travel', 'Country_of_Travel', 'Physician_Ownership_Indicator',\n",
       "       'Third_Party_Payment_Recipient_Indicator',\n",
       "       'Name_of_Third_Party_Entity_Receiving_Payment_or_Transfer_of_Value',\n",
       "       'Charity_Indicator', 'Third_Party_Equals_Covered_Recipient_Indicator',\n",
       "       'Contextual_Information', 'Delay_in_Publication_Indicator', 'Record_ID',\n",
       "       'Dispute_Status_for_Publication', 'Related_Product_Indicator',\n",
       "       'Covered_or_Noncovered_Indicator_1',\n",
       "       'Indicate_Drug_or_Biological_or_Device_or_Medical_Supply_1',\n",
       "       'Product_Category_or_Therapeutic_Area_1',\n",
       "       'Name_of_Drug_or_Biological_or_Device_or_Medical_Supply_1',\n",
       "       'Associated_Drug_or_Biological_NDC_1',\n",
       "       'Covered_or_Noncovered_Indicator_2',\n",
       "       'Indicate_Drug_or_Biological_or_Device_or_Medical_Supply_2',\n",
       "       'Product_Category_or_Therapeutic_Area_2',\n",
       "       'Name_of_Drug_or_Biological_or_Device_or_Medical_Supply_2',\n",
       "       'Associated_Drug_or_Biological_NDC_2',\n",
       "       'Covered_or_Noncovered_Indicator_3',\n",
       "       'Indicate_Drug_or_Biological_or_Device_or_Medical_Supply_3',\n",
       "       'Product_Category_or_Therapeutic_Area_3',\n",
       "       'Name_of_Drug_or_Biological_or_Device_or_Medical_Supply_3',\n",
       "       'Associated_Drug_or_Biological_NDC_3',\n",
       "       'Covered_or_Noncovered_Indicator_4',\n",
       "       'Indicate_Drug_or_Biological_or_Device_or_Medical_Supply_4',\n",
       "       'Product_Category_or_Therapeutic_Area_4',\n",
       "       'Name_of_Drug_or_Biological_or_Device_or_Medical_Supply_4',\n",
       "       'Associated_Drug_or_Biological_NDC_4',\n",
       "       'Covered_or_Noncovered_Indicator_5',\n",
       "       'Indicate_Drug_or_Biological_or_Device_or_Medical_Supply_5',\n",
       "       'Product_Category_or_Therapeutic_Area_5',\n",
       "       'Name_of_Drug_or_Biological_or_Device_or_Medical_Supply_5',\n",
       "       'Associated_Drug_or_Biological_NDC_5', 'Program_Year',\n",
       "       'Payment_Publication_Date'],\n",
       "      dtype='object')"
      ]
     },
     "execution_count": 22,
     "metadata": {},
     "output_type": "execute_result"
    }
   ],
   "source": []
  },
  {
   "cell_type": "code",
   "execution_count": 23,
   "metadata": {},
   "outputs": [
    {
     "name": "stdout",
     "output_type": "stream",
     "text": [
      "CPU times: user 2min 23s, sys: 26.7 s, total: 2min 50s\n",
      "Wall time: 2min 37s\n"
     ]
    },
    {
     "data": {
      "text/plain": [
       "count    1.036731e+07\n",
       "mean     3.437341e+02\n",
       "std      1.140449e+05\n",
       "min      1.000000e-02\n",
       "25%      1.433000e+01\n",
       "50%      1.971000e+01\n",
       "75%      1.235000e+02\n",
       "max      3.000000e+08\n",
       "Name: Total_Amount_of_Payment_USDollars, dtype: float64"
      ]
     },
     "execution_count": 23,
     "metadata": {},
     "output_type": "execute_result"
    }
   ],
   "source": [
    "%%time\n",
    "df_1 = dask_df['Total_Amount_of_Payment_USDollars'].astype(float)\n",
    "df_1.describe().compute()"
   ]
  },
  {
   "cell_type": "code",
   "execution_count": 33,
   "metadata": {},
   "outputs": [
    {
     "name": "stdout",
     "output_type": "stream",
     "text": [
      "CPU times: user 208 µs, sys: 0 ns, total: 208 µs\n",
      "Wall time: 214 µs\n"
     ]
    }
   ],
   "source": [
    "%%time\n",
    "vdf = vaex_df[['Total_Amount_of_Payment_USDollars','Recipient_City','Covered_Recipient_Type']]"
   ]
  },
  {
   "cell_type": "code",
   "execution_count": 35,
   "metadata": {},
   "outputs": [
    {
     "data": {
      "text/html": [
       "<div>\n",
       "<style scoped>\n",
       "    .dataframe tbody tr th:only-of-type {\n",
       "        vertical-align: middle;\n",
       "    }\n",
       "\n",
       "    .dataframe tbody tr th {\n",
       "        vertical-align: top;\n",
       "    }\n",
       "\n",
       "    .dataframe thead th {\n",
       "        text-align: right;\n",
       "    }\n",
       "</style>\n",
       "<table border=\"1\" class=\"dataframe\">\n",
       "  <thead>\n",
       "    <tr style=\"text-align: right;\">\n",
       "      <th></th>\n",
       "      <th>Total_Amount_of_Payment_USDollars</th>\n",
       "      <th>Recipient_City</th>\n",
       "      <th>Covered_Recipient_Type</th>\n",
       "    </tr>\n",
       "  </thead>\n",
       "  <tbody>\n",
       "    <tr>\n",
       "      <th>dtype</th>\n",
       "      <td>float64</td>\n",
       "      <td>str</td>\n",
       "      <td>str</td>\n",
       "    </tr>\n",
       "    <tr>\n",
       "      <th>count</th>\n",
       "      <td>10367307</td>\n",
       "      <td>10367307</td>\n",
       "      <td>10367307</td>\n",
       "    </tr>\n",
       "    <tr>\n",
       "      <th>NA</th>\n",
       "      <td>0</td>\n",
       "      <td>0</td>\n",
       "      <td>0</td>\n",
       "    </tr>\n",
       "    <tr>\n",
       "      <th>mean</th>\n",
       "      <td>343.73409288843277</td>\n",
       "      <td>--</td>\n",
       "      <td>--</td>\n",
       "    </tr>\n",
       "    <tr>\n",
       "      <th>std</th>\n",
       "      <td>114045</td>\n",
       "      <td>--</td>\n",
       "      <td>--</td>\n",
       "    </tr>\n",
       "    <tr>\n",
       "      <th>min</th>\n",
       "      <td>0.01</td>\n",
       "      <td>--</td>\n",
       "      <td>--</td>\n",
       "    </tr>\n",
       "    <tr>\n",
       "      <th>max</th>\n",
       "      <td>3e+08</td>\n",
       "      <td>--</td>\n",
       "      <td>--</td>\n",
       "    </tr>\n",
       "  </tbody>\n",
       "</table>\n",
       "</div>"
      ],
      "text/plain": [
       "      Total_Amount_of_Payment_USDollars Recipient_City Covered_Recipient_Type\n",
       "dtype                           float64            str                    str\n",
       "count                          10367307       10367307               10367307\n",
       "NA                                    0              0                      0\n",
       "mean                 343.73409288843277             --                     --\n",
       "std                              114045             --                     --\n",
       "min                                0.01             --                     --\n",
       "max                               3e+08             --                     --"
      ]
     },
     "execution_count": 35,
     "metadata": {},
     "output_type": "execute_result"
    }
   ],
   "source": [
    "vdf.describe()"
   ]
  },
  {
   "cell_type": "code",
   "execution_count": null,
   "metadata": {},
   "outputs": [],
   "source": []
  }
 ],
 "metadata": {
  "kernelspec": {
   "display_name": "Python 3",
   "language": "python",
   "name": "python3"
  },
  "language_info": {
   "codemirror_mode": {
    "name": "ipython",
    "version": 3
   },
   "file_extension": ".py",
   "mimetype": "text/x-python",
   "name": "python",
   "nbconvert_exporter": "python",
   "pygments_lexer": "ipython3",
   "version": "3.7.7"
  }
 },
 "nbformat": 4,
 "nbformat_minor": 4
}
