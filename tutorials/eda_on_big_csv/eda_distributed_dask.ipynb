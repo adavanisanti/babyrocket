{
 "cells": [
  {
   "cell_type": "code",
   "execution_count": 1,
   "metadata": {},
   "outputs": [],
   "source": [
    "%load_ext memory_profiler"
   ]
  },
  {
   "cell_type": "markdown",
   "metadata": {},
   "source": [
    "# Dask DataFrames\n",
    "\n",
    "<img src=\"dask-dataframe.svg\" \n",
    "     align=\"right\"\n",
    "     width=\"40%\"\n",
    "     alt=\"Dask dataframes are blocked Pandas dataframes\">\n",
    "     \n",
    "Dask Dataframes coordinate many Pandas dataframes, partitioned along an index.  They support a large subset of the Pandas API.\n",
    "\n",
    "[References](https://examples.dask.org/dataframe.html)"
   ]
  },
  {
   "cell_type": "code",
   "execution_count": 2,
   "metadata": {},
   "outputs": [
    {
     "data": {
      "text/html": [
       "<table style=\"border: 2px solid white;\">\n",
       "<tr>\n",
       "<td style=\"vertical-align: top; border: 0px solid white\">\n",
       "<h3 style=\"text-align: left;\">Client</h3>\n",
       "<ul style=\"text-align: left; list-style: none; margin: 0; padding: 0;\">\n",
       "  <li><b>Scheduler: </b>tcp://127.0.0.1:35573</li>\n",
       "  <li><b>Dashboard: </b><a href='http://127.0.0.1:8787/status' target='_blank'>http://127.0.0.1:8787/status</a></li>\n",
       "</ul>\n",
       "</td>\n",
       "<td style=\"vertical-align: top; border: 0px solid white\">\n",
       "<h3 style=\"text-align: left;\">Cluster</h3>\n",
       "<ul style=\"text-align: left; list-style:none; margin: 0; padding: 0;\">\n",
       "  <li><b>Workers: </b>4</li>\n",
       "  <li><b>Cores: </b>8</li>\n",
       "  <li><b>Memory: </b>33.73 GB</li>\n",
       "</ul>\n",
       "</td>\n",
       "</tr>\n",
       "</table>"
      ],
      "text/plain": [
       "<Client: 'tcp://127.0.0.1:35573' processes=4 threads=8, memory=33.73 GB>"
      ]
     },
     "execution_count": 2,
     "metadata": {},
     "output_type": "execute_result"
    }
   ],
   "source": [
    "from dask.distributed import Client, progress\n",
    "#from dask_jobqueue import SLURMCluster\n",
    "#cluster = SLURMCluster(cores=1,memory='6g')\n",
    "#cluster.scale(2)\n",
    "#client = Client(cluster)\n",
    "client = Client()\n",
    "client"
   ]
  },
  {
   "cell_type": "code",
   "execution_count": 3,
   "metadata": {},
   "outputs": [],
   "source": [
    "import dask.dataframe as dd"
   ]
  },
  {
   "cell_type": "code",
   "execution_count": 5,
   "metadata": {},
   "outputs": [],
   "source": [
    "dask_df = dd.read_csv(\"OP_DTL_GNRL_PGYR2019_P06302020.csv\",dtype='str')"
   ]
  },
  {
   "cell_type": "code",
   "execution_count": 6,
   "metadata": {},
   "outputs": [
    {
     "data": {
      "text/plain": [
       "Index(['Change_Type', 'Covered_Recipient_Type', 'Teaching_Hospital_CCN',\n",
       "       'Teaching_Hospital_ID', 'Teaching_Hospital_Name',\n",
       "       'Physician_Profile_ID', 'Physician_First_Name', 'Physician_Middle_Name',\n",
       "       'Physician_Last_Name', 'Physician_Name_Suffix',\n",
       "       'Recipient_Primary_Business_Street_Address_Line1',\n",
       "       'Recipient_Primary_Business_Street_Address_Line2', 'Recipient_City',\n",
       "       'Recipient_State', 'Recipient_Zip_Code', 'Recipient_Country',\n",
       "       'Recipient_Province', 'Recipient_Postal_Code', 'Physician_Primary_Type',\n",
       "       'Physician_Specialty', 'Physician_License_State_code1',\n",
       "       'Physician_License_State_code2', 'Physician_License_State_code3',\n",
       "       'Physician_License_State_code4', 'Physician_License_State_code5',\n",
       "       'Submitting_Applicable_Manufacturer_or_Applicable_GPO_Name',\n",
       "       'Applicable_Manufacturer_or_Applicable_GPO_Making_Payment_ID',\n",
       "       'Applicable_Manufacturer_or_Applicable_GPO_Making_Payment_Name',\n",
       "       'Applicable_Manufacturer_or_Applicable_GPO_Making_Payment_State',\n",
       "       'Applicable_Manufacturer_or_Applicable_GPO_Making_Payment_Country',\n",
       "       'Total_Amount_of_Payment_USDollars', 'Date_of_Payment',\n",
       "       'Number_of_Payments_Included_in_Total_Amount',\n",
       "       'Form_of_Payment_or_Transfer_of_Value',\n",
       "       'Nature_of_Payment_or_Transfer_of_Value', 'City_of_Travel',\n",
       "       'State_of_Travel', 'Country_of_Travel', 'Physician_Ownership_Indicator',\n",
       "       'Third_Party_Payment_Recipient_Indicator',\n",
       "       'Name_of_Third_Party_Entity_Receiving_Payment_or_Transfer_of_Value',\n",
       "       'Charity_Indicator', 'Third_Party_Equals_Covered_Recipient_Indicator',\n",
       "       'Contextual_Information', 'Delay_in_Publication_Indicator', 'Record_ID',\n",
       "       'Dispute_Status_for_Publication', 'Related_Product_Indicator',\n",
       "       'Covered_or_Noncovered_Indicator_1',\n",
       "       'Indicate_Drug_or_Biological_or_Device_or_Medical_Supply_1',\n",
       "       'Product_Category_or_Therapeutic_Area_1',\n",
       "       'Name_of_Drug_or_Biological_or_Device_or_Medical_Supply_1',\n",
       "       'Associated_Drug_or_Biological_NDC_1',\n",
       "       'Covered_or_Noncovered_Indicator_2',\n",
       "       'Indicate_Drug_or_Biological_or_Device_or_Medical_Supply_2',\n",
       "       'Product_Category_or_Therapeutic_Area_2',\n",
       "       'Name_of_Drug_or_Biological_or_Device_or_Medical_Supply_2',\n",
       "       'Associated_Drug_or_Biological_NDC_2',\n",
       "       'Covered_or_Noncovered_Indicator_3',\n",
       "       'Indicate_Drug_or_Biological_or_Device_or_Medical_Supply_3',\n",
       "       'Product_Category_or_Therapeutic_Area_3',\n",
       "       'Name_of_Drug_or_Biological_or_Device_or_Medical_Supply_3',\n",
       "       'Associated_Drug_or_Biological_NDC_3',\n",
       "       'Covered_or_Noncovered_Indicator_4',\n",
       "       'Indicate_Drug_or_Biological_or_Device_or_Medical_Supply_4',\n",
       "       'Product_Category_or_Therapeutic_Area_4',\n",
       "       'Name_of_Drug_or_Biological_or_Device_or_Medical_Supply_4',\n",
       "       'Associated_Drug_or_Biological_NDC_4',\n",
       "       'Covered_or_Noncovered_Indicator_5',\n",
       "       'Indicate_Drug_or_Biological_or_Device_or_Medical_Supply_5',\n",
       "       'Product_Category_or_Therapeutic_Area_5',\n",
       "       'Name_of_Drug_or_Biological_or_Device_or_Medical_Supply_5',\n",
       "       'Associated_Drug_or_Biological_NDC_5', 'Program_Year',\n",
       "       'Payment_Publication_Date'],\n",
       "      dtype='object')"
      ]
     },
     "execution_count": 6,
     "metadata": {},
     "output_type": "execute_result"
    }
   ],
   "source": [
    "dask_df.columns"
   ]
  },
  {
   "cell_type": "code",
   "execution_count": 7,
   "metadata": {},
   "outputs": [
    {
     "name": "stdout",
     "output_type": "stream",
     "text": [
      "CPU times: user 6.61 s, sys: 405 ms, total: 7.01 s\n",
      "Wall time: 1min 18s\n"
     ]
    },
    {
     "data": {
      "text/plain": [
       "count    1.036731e+07\n",
       "mean     3.437341e+02\n",
       "std      1.140449e+05\n",
       "min      1.000000e-02\n",
       "25%      1.433000e+01\n",
       "50%      1.971000e+01\n",
       "75%      1.235000e+02\n",
       "max      3.000000e+08\n",
       "Name: Total_Amount_of_Payment_USDollars, dtype: float64"
      ]
     },
     "execution_count": 7,
     "metadata": {},
     "output_type": "execute_result"
    }
   ],
   "source": [
    "%%time\n",
    "df_1 = dask_df['Total_Amount_of_Payment_USDollars'].astype(float)\n",
    "df_1.describe().compute()"
   ]
  },
  {
   "cell_type": "code",
   "execution_count": 8,
   "metadata": {},
   "outputs": [],
   "source": [
    "dask_df[\"Total_Amount_of_Payment_USDollars\"] = dask_df[\"Total_Amount_of_Payment_USDollars\"].astype(float)"
   ]
  },
  {
   "cell_type": "code",
   "execution_count": 9,
   "metadata": {},
   "outputs": [],
   "source": [
    "df_2 = dask_df.groupby(by=[\"Covered_Recipient_Type\",\"Recipient_City\"]).agg({\"Total_Amount_of_Payment_USDollars\": ['mean']})"
   ]
  },
  {
   "cell_type": "code",
   "execution_count": 10,
   "metadata": {},
   "outputs": [
    {
     "name": "stdout",
     "output_type": "stream",
     "text": [
      "CPU times: user 4.59 s, sys: 471 ms, total: 5.06 s\n",
      "Wall time: 1min 8s\n"
     ]
    },
    {
     "data": {
      "text/html": [
       "<div>\n",
       "<style scoped>\n",
       "    .dataframe tbody tr th:only-of-type {\n",
       "        vertical-align: middle;\n",
       "    }\n",
       "\n",
       "    .dataframe tbody tr th {\n",
       "        vertical-align: top;\n",
       "    }\n",
       "\n",
       "    .dataframe thead tr th {\n",
       "        text-align: left;\n",
       "    }\n",
       "\n",
       "    .dataframe thead tr:last-of-type th {\n",
       "        text-align: right;\n",
       "    }\n",
       "</style>\n",
       "<table border=\"1\" class=\"dataframe\">\n",
       "  <thead>\n",
       "    <tr>\n",
       "      <th></th>\n",
       "      <th></th>\n",
       "      <th>Total_Amount_of_Payment_USDollars</th>\n",
       "    </tr>\n",
       "    <tr>\n",
       "      <th></th>\n",
       "      <th></th>\n",
       "      <th>mean</th>\n",
       "    </tr>\n",
       "    <tr>\n",
       "      <th>Covered_Recipient_Type</th>\n",
       "      <th>Recipient_City</th>\n",
       "      <th></th>\n",
       "    </tr>\n",
       "  </thead>\n",
       "  <tbody>\n",
       "    <tr>\n",
       "      <th rowspan=\"5\" valign=\"top\">Covered Recipient Physician</th>\n",
       "      <th>00612</th>\n",
       "      <td>8.251111</td>\n",
       "    </tr>\n",
       "    <tr>\n",
       "      <th>100 HIGH ST</th>\n",
       "      <td>141.304444</td>\n",
       "    </tr>\n",
       "    <tr>\n",
       "      <th>11201 BENTON STREET</th>\n",
       "      <td>250.000000</td>\n",
       "    </tr>\n",
       "    <tr>\n",
       "      <th>150</th>\n",
       "      <td>22.480000</td>\n",
       "    </tr>\n",
       "    <tr>\n",
       "      <th>1515 E Columbia</th>\n",
       "      <td>499.500000</td>\n",
       "    </tr>\n",
       "    <tr>\n",
       "      <th>...</th>\n",
       "      <th>...</th>\n",
       "      <td>...</td>\n",
       "    </tr>\n",
       "    <tr>\n",
       "      <th rowspan=\"5\" valign=\"top\">Covered Recipient Teaching Hospital</th>\n",
       "      <th>chicago</th>\n",
       "      <td>3000.000000</td>\n",
       "    </tr>\n",
       "    <tr>\n",
       "      <th>phoenix</th>\n",
       "      <td>500.000000</td>\n",
       "    </tr>\n",
       "    <tr>\n",
       "      <th>sacramento</th>\n",
       "      <td>14700.000000</td>\n",
       "    </tr>\n",
       "    <tr>\n",
       "      <th>salt lake city</th>\n",
       "      <td>1250.000000</td>\n",
       "    </tr>\n",
       "    <tr>\n",
       "      <th>san diego</th>\n",
       "      <td>1000.000000</td>\n",
       "    </tr>\n",
       "  </tbody>\n",
       "</table>\n",
       "<p>20923 rows × 1 columns</p>\n",
       "</div>"
      ],
      "text/plain": [
       "                                                        Total_Amount_of_Payment_USDollars\n",
       "                                                                                     mean\n",
       "Covered_Recipient_Type              Recipient_City                                       \n",
       "Covered Recipient Physician         00612                                        8.251111\n",
       "                                    100 HIGH ST                                141.304444\n",
       "                                    11201 BENTON STREET                        250.000000\n",
       "                                    150                                         22.480000\n",
       "                                    1515 E Columbia                            499.500000\n",
       "...                                                                                   ...\n",
       "Covered Recipient Teaching Hospital chicago                                   3000.000000\n",
       "                                    phoenix                                    500.000000\n",
       "                                    sacramento                               14700.000000\n",
       "                                    salt lake city                            1250.000000\n",
       "                                    san diego                                 1000.000000\n",
       "\n",
       "[20923 rows x 1 columns]"
      ]
     },
     "execution_count": 10,
     "metadata": {},
     "output_type": "execute_result"
    }
   ],
   "source": [
    "%%time\n",
    "df_2.compute()"
   ]
  },
  {
   "cell_type": "code",
   "execution_count": 12,
   "metadata": {},
   "outputs": [
    {
     "name": "stdout",
     "output_type": "stream",
     "text": [
      "CPU times: user 5.35 s, sys: 301 ms, total: 5.65 s\n",
      "Wall time: 1min 7s\n"
     ]
    },
    {
     "data": {
      "text/plain": [
       "Covered Recipient Physician            10319667\n",
       "Covered Recipient Teaching Hospital       47640\n",
       "Name: Covered_Recipient_Type, dtype: int64"
      ]
     },
     "execution_count": 12,
     "metadata": {},
     "output_type": "execute_result"
    }
   ],
   "source": [
    "%%time\n",
    "dask_df[\"Covered_Recipient_Type\"].value_counts().compute()"
   ]
  },
  {
   "cell_type": "code",
   "execution_count": null,
   "metadata": {},
   "outputs": [],
   "source": []
  }
 ],
 "metadata": {
  "kernelspec": {
   "display_name": "Python 3",
   "language": "python",
   "name": "python3"
  },
  "language_info": {
   "codemirror_mode": {
    "name": "ipython",
    "version": 3
   },
   "file_extension": ".py",
   "mimetype": "text/x-python",
   "name": "python",
   "nbconvert_exporter": "python",
   "pygments_lexer": "ipython3",
   "version": "3.7.7"
  }
 },
 "nbformat": 4,
 "nbformat_minor": 4
}
